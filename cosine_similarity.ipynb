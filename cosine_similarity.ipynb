{
 "cells": [
  {
   "cell_type": "markdown",
   "id": "a0356c24-c332-42fc-b671-2c9eb70830f4",
   "metadata": {},
   "source": [
    "# Vectors Similarity\n",
    "## This is a notebook to explain consine similarity - a method find how similar two vectors are"
   ]
  },
  {
   "cell_type": "markdown",
   "id": "1922447a-0e34-436a-9538-f4dfcc8541fd",
   "metadata": {},
   "source": [
    "Import packs"
   ]
  },
  {
   "cell_type": "code",
   "execution_count": 26,
   "id": "e20f8873-461c-4dbe-9443-8bd19b7cb92e",
   "metadata": {},
   "outputs": [],
   "source": [
    "import numpy as np\n",
    "import matplotlib.pyplot as plt\n",
    "from ipywidgets import interact, FloatSlider"
   ]
  },
  {
   "cell_type": "markdown",
   "id": "19d086ee-e74d-467f-bf85-452fc52b7bfa",
   "metadata": {},
   "source": [
    "### Consine similarity"
   ]
  },
  {
   "cell_type": "code",
   "execution_count": 27,
   "id": "0b67400a-d597-4d2c-9315-6830ab56c43d",
   "metadata": {},
   "outputs": [
    {
     "name": "stdout",
     "output_type": "stream",
     "text": [
      "dot operations result: 16\n",
      "normalised arr1: 10.44030650891055\n",
      "normalised arr2: 2.23606797749979\n",
      "noramlised result ('cosine similarity') : 0.6853646990049909\n"
     ]
    },
    {
     "data": {
      "text/plain": [
       "0.68536"
      ]
     },
     "execution_count": 27,
     "metadata": {},
     "output_type": "execute_result"
    }
   ],
   "source": [
    "# consine similairty\n",
    "def get_cosine_similarity(arr1, arr2):\n",
    "    # dot function\n",
    "    dot_result = np.dot(arr1, arr2) # = 3*2 + 5+4 = 26\n",
    "    \n",
    "    norm_a = np.linalg.norm(arr1)  # sqrt(3^2 + 5^2) = sqrt(34) = 5.83\n",
    "    norm_b = np.linalg.norm(arr2)  # sqrt(2^2 + 4^2) = sqrt(20) = 4.47\n",
    "    \n",
    "    cos_sim = dot_result / (norm_a * norm_b) # = 26 / (5.83 * 4.47) = 0.997\n",
    "    \n",
    "    # Enter your code here\n",
    "    print(f\"dot operations result: {dot_result}\")\n",
    "    print(f\"normalised arr1: {norm_a}\")\n",
    "    print(f\"normalised arr2: {norm_b}\")\n",
    "    print(f\"noramlised result ('cosine similarity') : {cos_sim}\")\n",
    "    return round(cos_sim,5)\n",
    "\n",
    "arr1 = np.array([3, 10])\n",
    "arr2 = np.array([2, 1])\n",
    "\n",
    "get_cosine_similarity(arr1, arr2)"
   ]
  },
  {
   "cell_type": "markdown",
   "id": "fda3246e-a552-4d30-b4a8-baf33bbfff61",
   "metadata": {},
   "source": [
    "### Plot vector "
   ]
  },
  {
   "cell_type": "code",
   "execution_count": 28,
   "id": "edebb67e-db25-4588-9fd0-e8c236f169a1",
   "metadata": {},
   "outputs": [
    {
     "name": "stdout",
     "output_type": "stream",
     "text": [
      "dot operations result: -4\n",
      "normalised arr1: 10.44030650891055\n",
      "normalised arr2: 2.23606797749979\n",
      "noramlised result ('cosine similarity') : -0.17134117475124772\n"
     ]
    },
    {
     "data": {
      "image/png": "[encoded data removed]",
      "text/plain": [
       "<Figure size 360x360 with 1 Axes>"
      ]
     },
     "metadata": {
      "needs_background": "light"
     },
     "output_type": "display_data"
    }
   ],
   "source": [
    "# plot \n",
    "def Plotvec(arr1, arr2):\n",
    "\n",
    "    # calculate cosine similarity\n",
    "    cos_sim = get_cosine_similarity(arr1, arr2)\n",
    "    \n",
    "    # Create a new figure\n",
    "    plt.figure(figsize=(5,5))\n",
    "    # Draw reference lines for x=0 and y=0\n",
    "    plt.axhline(0, color='black', linewidth=0.5)\n",
    "    plt.axvline(0, color='black', linewidth=0.5)\n",
    "    \n",
    "    # Plot arr1 as a red arrow from the origin\n",
    "    plt.arrow(0, 0, \n",
    "              arr1[0], arr1[1], \n",
    "              head_width=0.2, \n",
    "              length_includes_head=True, \n",
    "              color='red')\n",
    "    \n",
    "    # Plot arr2 as a blue arrow from the origin\n",
    "    plt.arrow(0, 0, \n",
    "              arr2[0], arr2[1], \n",
    "              head_width=0.2, \n",
    "              length_includes_head=True, \n",
    "              color='blue')\n",
    "    \n",
    "    # define plot boundaries\n",
    "    all_vals = np.concatenate([arr1, arr2])\n",
    "    max_val = max(abs(all_vals.min()), abs(all_vals.max()))  # handle negative values too\n",
    "    margin = 1\n",
    "    plt.xlim(-max_val - margin, max_val + margin)\n",
    "    plt.ylim(-max_val - margin, max_val + margin)\n",
    "    \n",
    "    # Ensure equal aspect ratio\n",
    "    plt.gca().set_aspect('equal', adjustable='box')\n",
    "    \n",
    "    # Add small offsets so text doesn't lie directly on arrows\n",
    "    plt.text(*(arr1 + 0.2), 'arr1')\n",
    "    plt.text(*(arr2 + 0.2), 'arr2')\n",
    "    plt.text(-max_val*.8, max_val*.7, f\"Cosine similarity:\\n{cos_sim}\")\n",
    "\n",
    "    plt.show()\n",
    "\n",
    "\n",
    "arr1 = np.array([3, -10])\n",
    "arr2 = np.array([2, 1])\n",
    "\n",
    "Plotvec(arr1, arr2)"
   ]
  },
  {
   "cell_type": "markdown",
   "id": "ca2132c2-6d3f-4fa3-9113-1f4597cb1edb",
   "metadata": {},
   "source": [
    "### Test with different values"
   ]
  },
  {
   "cell_type": "code",
   "execution_count": 29,
   "id": "6f005da1-8492-4e45-b62b-61dd3585770a",
   "metadata": {},
   "outputs": [
    {
     "data": {
      "application/vnd.jupyter.widget-view+json": {
       "model_id": "f5f65c31d6a34f82956d9b29f527278c",
       "version_major": 2,
       "version_minor": 0
      },
      "text/plain": [
       "interactive(children=(FloatSlider(value=3.0, description='arr1 x', max=10.0, min=-10.0, step=1.0), FloatSlider…"
      ]
     },
     "metadata": {},
     "output_type": "display_data"
    }
   ],
   "source": [
    "# interactive chart\n",
    "\n",
    "def interactive_vectors():\n",
    "    # Sliders for arr1 and arr2\n",
    "    x1_slider = FloatSlider(min=-10, max=10, step=1, value=3, description=\"arr1 x\")\n",
    "    y1_slider = FloatSlider(min=-10, max=10, step=1, value=10, description=\"arr1 y\")\n",
    "\n",
    "    x2_slider = FloatSlider(min=-10, max=10, step=1, value=2, description=\"arr2 x\")\n",
    "    y2_slider = FloatSlider(min=-10, max=10, step=1, value=1, description=\"arr2 y\")\n",
    "    \n",
    "    # 'interact' automatically creates the widget UI and calls the function\n",
    "    @interact(x1=x1_slider, y1=y1_slider, x2=x2_slider, y2=y2_slider)\n",
    "    def update_plot(x1, y1, x2, y2):\n",
    "        arr1 = np.array([x1, y1])\n",
    "        arr2 = np.array([x2, y2])\n",
    "        Plotvec(arr1, arr2)\n",
    "\n",
    "# Call the interactive function\n",
    "interactive_vectors()\n"
   ]
  }
 ],
 "metadata": {
  "kernelspec": {
   "display_name": "Python 3 (ipykernel)",
   "language": "python",
   "name": "python3"
  },
  "language_info": {
   "codemirror_mode": {
    "name": "ipython",
    "version": 3
   },
   "file_extension": ".py",
   "mimetype": "text/x-python",
   "name": "python",
   "nbconvert_exporter": "python",
   "pygments_lexer": "ipython3",
   "version": "3.9.2"
  }
 },
 "nbformat": 4,
 "nbformat_minor": 5
}
